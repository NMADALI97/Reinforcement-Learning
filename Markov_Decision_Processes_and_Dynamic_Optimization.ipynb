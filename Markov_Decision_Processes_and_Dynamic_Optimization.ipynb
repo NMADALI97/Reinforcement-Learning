{
  "nbformat": 4,
  "nbformat_minor": 0,
  "metadata": {
    "colab": {
      "name": "Markov Decision Processes and Dynamic Optimization.ipynb",
      "provenance": []
    },
    "kernelspec": {
      "name": "python3",
      "display_name": "Python 3"
    }
  },
  "cells": [
    {
      "cell_type": "code",
      "metadata": {
        "id": "zvYFhZ26gdvq",
        "colab_type": "code",
        "colab": {}
      },
      "source": [
        "import numpy as np\n",
        "from random import randint\n",
        "import random\n",
        "\n",
        "class EnvGrid(object):\n",
        "\n",
        "    def __init__(self):\n",
        "        super(EnvGrid, self).__init__()\n",
        "\n",
        "        self.grid = [\n",
        "            [0, 0, 1],\n",
        "            [0, -1, 0],\n",
        "            [0, 0, 0]\n",
        "        ]\n",
        "       \n",
        "        self.y = 2\n",
        "        self.x = 0\n",
        "\n",
        "        self.actions = [\n",
        "            [-1, 0],\n",
        "            [1, 0],\n",
        "            [0, -1], \n",
        "            [0, 1]\n",
        "        ]\n",
        "\n",
        "    def reset(self):\n",
        "       \n",
        "        self.y = 2\n",
        "        self.x = 0\n",
        "        return (self.y*3+self.x+1)\n",
        "\n",
        "    def step(self, action):\n",
        "       \n",
        "        self.y = max(0, min(self.y + self.actions[action][0],2))\n",
        "        self.x = max(0, min(self.x + self.actions[action][1],2))\n",
        "\n",
        "        return (self.y*3+self.x+1) , self.grid[self.y][self.x]\n",
        "\n",
        "    def show(self):\n",
        "       \n",
        "        print(\"---------------------\")\n",
        "        y = 0\n",
        "        for line in self.grid:\n",
        "            x = 0\n",
        "            for pt in line:\n",
        "                print(\"%s\\t\" % (pt if y != self.y or x != self.x else \"X\"), end=\"\")\n",
        "                x += 1\n",
        "            y += 1\n",
        "            print(\"\")\n",
        "\n",
        "    def is_finished(self):\n",
        "        return self.grid[self.y][self.x] == 1\n",
        "\n",
        "def take_action(st, Q, eps):\n",
        "  \n",
        "    if random.uniform(0, 1) < eps:\n",
        "        action = randint(0, 3)\n",
        "    else: \n",
        "        action = np.argmax(Q[st])\n",
        "    return action\n",
        "\n"
      ],
      "execution_count": 0,
      "outputs": []
    },
    {
      "cell_type": "code",
      "metadata": {
        "id": "rLhmEVFFgyZS",
        "colab_type": "code",
        "colab": {
          "base_uri": "https://localhost:8080/",
          "height": 173
        },
        "outputId": "8cdb8ab9-1a7c-41ec-daaa-570e6605e2b9"
      },
      "source": [
        "env = EnvGrid()\n",
        "st = env.reset()\n",
        "\n",
        "Q = [[0, 0, 0, 0],\n",
        "        [0, 0, 0, 0],\n",
        "        [0, 0, 0, 0],\n",
        "        [0, 0, 0, 0],\n",
        "        [0, 0, 0, 0],\n",
        "        [0, 0, 0, 0],\n",
        "        [0, 0, 0, 0],\n",
        "        [0, 0, 0, 0],\n",
        "        [0, 0, 0, 0],\n",
        "        [0, 0, 0, 0]]\n",
        "\n",
        "for _ in range(100):\n",
        "        st = env.reset()\n",
        "        while not env.is_finished():\n",
        "           \n",
        "            at = take_action(st, Q, 0.4)\n",
        "\n",
        "            stp1, r = env.step(at)\n",
        "         \n",
        "            atp1 = take_action(stp1, Q, 0.0)\n",
        "            Q[st][at] = Q[st][at] + 0.1*(r + 0.9*Q[stp1][atp1] - Q[st][at])\n",
        "\n",
        "            st = stp1\n",
        "\n",
        "for s in range(1, 10):\n",
        "        print(s, Q[s])\n"
      ],
      "execution_count": 2,
      "outputs": [
        {
          "output_type": "stream",
          "text": [
            "1 [0.5294797158642527, 0.356820935913512, 0.4524904891704945, 0.8991731256249459]\n",
            "2 [0.646370896360897, -0.35294941956838205, 0.5190049671941896, 0.9999444667132745]\n",
            "3 [0, 0, 0, 0]\n",
            "4 [0.8057340596258379, 0.12356887524047903, 0.46080072072919154, -0.422062063005245]\n",
            "5 [0.81549929533046, 0.0017761356000000005, 0.19559922862336285, 0.0]\n",
            "6 [0.5217031000000001, 0.009255465000000003, -0.1, 0.024390000000000005]\n",
            "7 [0.7183272085623299, 0.29065804599572664, 0.3706252481589156, 0.08441989971578186]\n",
            "8 [-0.1859615367757399, 0.0, 0.30129216393333097, 0.023201599500000003]\n",
            "9 [0.15863980500000002, 0.0008100000000000002, 0, 0]\n"
          ],
          "name": "stdout"
        }
      ]
    }
  ]
}